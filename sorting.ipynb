{
  "nbformat": 4,
  "nbformat_minor": 0,
  "metadata": {
    "colab": {
      "name": "Untitled21.ipynb",
      "provenance": [],
      "authorship_tag": "ABX9TyONoIRUsSbH2v0aAmM7owKe",
      "include_colab_link": true
    },
    "kernelspec": {
      "name": "python3",
      "display_name": "Python 3"
    },
    "language_info": {
      "name": "python"
    }
  },
  "cells": [
    {
      "cell_type": "markdown",
      "metadata": {
        "id": "view-in-github",
        "colab_type": "text"
      },
      "source": [
        "<a href=\"https://colab.research.google.com/github/ArcotSiri/Python/blob/main/sorting.ipynb\" target=\"_parent\"><img src=\"https://colab.research.google.com/assets/colab-badge.svg\" alt=\"Open In Colab\"/></a>"
      ]
    },
    {
      "cell_type": "code",
      "metadata": {
        "colab": {
          "base_uri": "https://localhost:8080/"
        },
        "id": "8M5FvZrDMDUK",
        "outputId": "8e3926ed-2047-493e-dc72-6bdf590b47dc"
      },
      "source": [
        "#BUBBLE SORT\n",
        "def sort(num):\n",
        "  for i in range(len(num)-1,0,-1):\n",
        "    for j in range(i):\n",
        "      if num[j]>num[j+1]:\n",
        "        temp = num[j]\n",
        "        num[j] = num[j+1]\n",
        "        num[j+1] = temp\n",
        "  return num\n",
        "\n",
        "num = [5,3,4,9,0]\n",
        "\n",
        "sort(num)\n",
        "print(num)"
      ],
      "execution_count": 6,
      "outputs": [
        {
          "output_type": "stream",
          "text": [
            "[0, 3, 4, 5, 9]\n"
          ],
          "name": "stdout"
        }
      ]
    },
    {
      "cell_type": "code",
      "metadata": {
        "id": "yxmt-oxMlKB9"
      },
      "source": [
        "#Quick Sort\n",
        "def partition(array, low, high):\n",
        "    i = (low - 1)\n",
        "    pivot = array[high]\n",
        "    for j in range(low, high):\n",
        "        if array[j] <= pivot:\n",
        "            i += 1\n",
        "            array[i], array[j] = array[j], array[i]\n",
        "    array[i + 1], array[high] = array[high], array[i + 1]\n",
        "    return (i + 1)"
      ],
      "execution_count": 7,
      "outputs": []
    },
    {
      "cell_type": "code",
      "metadata": {
        "id": "S3N1MCotlbXh"
      },
      "source": [
        "def quick_sort(array, low, high):\n",
        "    if low < high:\n",
        "        partition_index  = partition(array, low, high)\n",
        "        quick_sort(array, low, partition_index  - 1)\n",
        "        quick_sort(array, partition_index  + 1, high)"
      ],
      "execution_count": 8,
      "outputs": []
    },
    {
      "cell_type": "code",
      "metadata": {
        "id": "rTRp_zANleZ5"
      },
      "source": [
        "array = [1, 0, 4, 2, 3, 5]"
      ],
      "execution_count": 9,
      "outputs": []
    },
    {
      "cell_type": "code",
      "metadata": {
        "colab": {
          "base_uri": "https://localhost:8080/"
        },
        "id": "ZAqdCoRDlhi6",
        "outputId": "25a6e9c3-4624-4fb9-b12d-0fb058522936"
      },
      "source": [
        "print('Unsorted array')"
      ],
      "execution_count": 10,
      "outputs": [
        {
          "output_type": "stream",
          "text": [
            "Unsorted array\n"
          ],
          "name": "stdout"
        }
      ]
    },
    {
      "cell_type": "code",
      "metadata": {
        "colab": {
          "base_uri": "https://localhost:8080/"
        },
        "id": "AXL4b6dMlk6a",
        "outputId": "de271d47-743a-4d89-e0f5-3667796116c9"
      },
      "source": [
        "print(array)"
      ],
      "execution_count": 11,
      "outputs": [
        {
          "output_type": "stream",
          "text": [
            "[1, 0, 4, 2, 3, 5]\n"
          ],
          "name": "stdout"
        }
      ]
    },
    {
      "cell_type": "code",
      "metadata": {
        "id": "ORj7JRSFlndA"
      },
      "source": [
        "low = 0"
      ],
      "execution_count": 12,
      "outputs": []
    },
    {
      "cell_type": "code",
      "metadata": {
        "id": "9zFPr7hulpcC"
      },
      "source": [
        "high = len(array) - 1"
      ],
      "execution_count": 13,
      "outputs": []
    },
    {
      "cell_type": "code",
      "metadata": {
        "id": "5l4Ve5EnlrdN"
      },
      "source": [
        "quick_sort(array, low, high)"
      ],
      "execution_count": 15,
      "outputs": []
    },
    {
      "cell_type": "code",
      "metadata": {
        "colab": {
          "base_uri": "https://localhost:8080/"
        },
        "id": "kGs79YWUltq_",
        "outputId": "c66644cf-4229-4de6-f8fc-9047af50bb93"
      },
      "source": [
        "print('Sorted array')"
      ],
      "execution_count": 16,
      "outputs": [
        {
          "output_type": "stream",
          "text": [
            "Sorted array\n"
          ],
          "name": "stdout"
        }
      ]
    },
    {
      "cell_type": "code",
      "metadata": {
        "colab": {
          "base_uri": "https://localhost:8080/"
        },
        "id": "P3yjfng3lwPn",
        "outputId": "c7b8c0ce-779c-49cf-a0ef-5727bf0431ae"
      },
      "source": [
        "print(array)"
      ],
      "execution_count": 17,
      "outputs": [
        {
          "output_type": "stream",
          "text": [
            "[0, 1, 2, 3, 4, 5]\n"
          ],
          "name": "stdout"
        }
      ]
    },
    {
      "cell_type": "code",
      "metadata": {
        "id": "DoRacPm5w7Jt"
      },
      "source": [
        "#Insertion Sort\n",
        "def insertion_sort(array):\n",
        "    for i in range(1, len(array)):       \n",
        "        #current number to be compared\n",
        "        curNum = array [i]\n",
        "       #compare curNum with the sorted part of the array and insert curNum\n",
        "        while i>0 and array[i-1] > curNum:\n",
        "            array[i] = array[i-1]\n",
        "            i = i-1\n",
        "            array[i] = curNum"
      ],
      "execution_count": 18,
      "outputs": []
    },
    {
      "cell_type": "code",
      "metadata": {
        "id": "q3uOmRelxGi2"
      },
      "source": [
        "array=[16,23,43,1,31,8]"
      ],
      "execution_count": 19,
      "outputs": []
    },
    {
      "cell_type": "code",
      "metadata": {
        "colab": {
          "base_uri": "https://localhost:8080/"
        },
        "id": "FYkOJT1jxJis",
        "outputId": "20128d7f-d63f-416a-f1c6-11d0b22ce5cf"
      },
      "source": [
        "print('Unsorted array')"
      ],
      "execution_count": 20,
      "outputs": [
        {
          "output_type": "stream",
          "text": [
            "Unsorted array\n"
          ],
          "name": "stdout"
        }
      ]
    },
    {
      "cell_type": "code",
      "metadata": {
        "colab": {
          "base_uri": "https://localhost:8080/"
        },
        "id": "iBrn_nPZxM1z",
        "outputId": "b5206547-8434-4ffa-8658-6e4e8f3cdc11"
      },
      "source": [
        "print(array)"
      ],
      "execution_count": 21,
      "outputs": [
        {
          "output_type": "stream",
          "text": [
            "[16, 23, 43, 1, 31, 8]\n"
          ],
          "name": "stdout"
        }
      ]
    },
    {
      "cell_type": "code",
      "metadata": {
        "colab": {
          "base_uri": "https://localhost:8080/"
        },
        "id": "V_1VKmydxPnF",
        "outputId": "7f3acf39-c16c-48fc-c13b-e12a8a1caae6"
      },
      "source": [
        "print(' ')\n",
        "insertion_sort(array)"
      ],
      "execution_count": 22,
      "outputs": [
        {
          "output_type": "stream",
          "text": [
            " \n"
          ],
          "name": "stdout"
        }
      ]
    },
    {
      "cell_type": "code",
      "metadata": {
        "colab": {
          "base_uri": "https://localhost:8080/"
        },
        "id": "-fSM-Fs_xSmh",
        "outputId": "b5ddbe89-0efa-4fcb-c363-de0474a05625"
      },
      "source": [
        "print(' ')"
      ],
      "execution_count": 23,
      "outputs": [
        {
          "output_type": "stream",
          "text": [
            " \n"
          ],
          "name": "stdout"
        }
      ]
    },
    {
      "cell_type": "code",
      "metadata": {
        "colab": {
          "base_uri": "https://localhost:8080/"
        },
        "id": "Y1gACtzPxVOS",
        "outputId": "591a752e-adbc-4df9-f976-4a1b66f550bc"
      },
      "source": [
        "print('Sorted array')"
      ],
      "execution_count": 24,
      "outputs": [
        {
          "output_type": "stream",
          "text": [
            "Sorted array\n"
          ],
          "name": "stdout"
        }
      ]
    },
    {
      "cell_type": "code",
      "metadata": {
        "colab": {
          "base_uri": "https://localhost:8080/"
        },
        "id": "mG9gS6pXxYOq",
        "outputId": "876ed9a2-3502-4b25-a8a3-793ca4091ff2"
      },
      "source": [
        "print(array)"
      ],
      "execution_count": 25,
      "outputs": [
        {
          "output_type": "stream",
          "text": [
            "[1, 8, 16, 23, 31, 43]\n"
          ],
          "name": "stdout"
        }
      ]
    }
  ]
}