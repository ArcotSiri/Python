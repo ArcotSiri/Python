{
  "nbformat": 4,
  "nbformat_minor": 0,
  "metadata": {
    "colab": {
      "name": "Untitled17.ipynb",
      "provenance": [],
      "authorship_tag": "ABX9TyP8fe/SgtudfZufa6z/Ms63",
      "include_colab_link": true
    },
    "kernelspec": {
      "name": "python3",
      "display_name": "Python 3"
    },
    "language_info": {
      "name": "python"
    }
  },
  "cells": [
    {
      "cell_type": "markdown",
      "metadata": {
        "id": "view-in-github",
        "colab_type": "text"
      },
      "source": [
        "<a href=\"https://colab.research.google.com/github/ArcotSiri/Python/blob/main/Classes.ipynb\" target=\"_parent\"><img src=\"https://colab.research.google.com/assets/colab-badge.svg\" alt=\"Open In Colab\"/></a>"
      ]
    },
    {
      "cell_type": "code",
      "metadata": {
        "colab": {
          "base_uri": "https://localhost:8080/"
        },
        "id": "cwaB8E86-rpj",
        "outputId": "41b4b6b7-b85d-4337-bbd6-baae5adb54e6"
      },
      "source": [
        "#Classes\n",
        "class person:\n",
        "  def my_func(self):\n",
        "    print(\"Hai!\")\n",
        "    print(\"This is Siri\")\n",
        "\n",
        "myobj = person()\n",
        "myobj.my_func()"
      ],
      "execution_count": null,
      "outputs": [
        {
          "output_type": "stream",
          "text": [
            "Hai!\n",
            "This is Siri\n"
          ],
          "name": "stdout"
        }
      ]
    },
    {
      "cell_type": "code",
      "metadata": {
        "colab": {
          "base_uri": "https://localhost:8080/"
        },
        "id": "jfcjTOUr0BZe",
        "outputId": "1750f67b-fe67-4079-cf78-51c03ac38109"
      },
      "source": [
        "#static variables, constructor and self\n",
        "class student:\n",
        "  welcome = \"Welcome to our class !!!\"\n",
        "\n",
        "  def identity(self,name,roll):\n",
        "    self.name = name\n",
        "    self.roll = roll\n",
        "  \n",
        "  def display(self):\n",
        "    print(\"Name : \",self.name)\n",
        "    print(\"Roll No : \",self.roll)\n",
        "    print(\"Welcome : \",self.welcome)\n",
        "\n",
        "stu = student()\n",
        "stu.identity('Siri','5C9')\n",
        "stu.display()\n",
        "\n",
        "stu = student()\n",
        "stu.identity('Maanu','1001')\n",
        "stu.display()"
      ],
      "execution_count": null,
      "outputs": [
        {
          "output_type": "stream",
          "text": [
            "Name :  Siri\n",
            "Roll No :  5C9\n",
            "Welcome :  Welcome to our class !!!\n",
            "Name :  Maanu\n",
            "Roll No :  1001\n",
            "Welcome :  Welcome to our class !!!\n"
          ],
          "name": "stdout"
        }
      ]
    },
    {
      "cell_type": "code",
      "metadata": {
        "colab": {
          "base_uri": "https://localhost:8080/"
        },
        "id": "UINFKnHU5rjX",
        "outputId": "2b380125-ed4c-432e-be6e-85ad433f592a"
      },
      "source": [
        "#Without Inheritance\n",
        "class animal:\n",
        "  def eat(self):\n",
        "    print(\"eats\")\n",
        "\n",
        "class dog:\n",
        "  def eat(self):\n",
        "    print(\"eats\")\n",
        "\n",
        "  def bark(self):\n",
        "    print(\"barks\")\n",
        "\n",
        "o = dog()\n",
        "o.eat()\n",
        "o.bark()"
      ],
      "execution_count": null,
      "outputs": [
        {
          "output_type": "stream",
          "text": [
            "eats\n",
            "barks\n"
          ],
          "name": "stdout"
        }
      ]
    },
    {
      "cell_type": "code",
      "metadata": {
        "colab": {
          "base_uri": "https://localhost:8080/"
        },
        "id": "Rz6VQ-73OScO",
        "outputId": "0e1e8d76-8c80-4ae7-d492-e23b7a3b60a4"
      },
      "source": [
        "#With Inheritance\n",
        "class animal:\n",
        "  def eat(self):\n",
        "    print(\"eats\")\n",
        "\n",
        "class dog(animal):\n",
        "  def bark(self):\n",
        "    print(\"barks\")\n",
        "\n",
        "o = dog()\n",
        "o.eat()\n",
        "o.bark()"
      ],
      "execution_count": null,
      "outputs": [
        {
          "output_type": "stream",
          "text": [
            "eats\n",
            "barks\n"
          ],
          "name": "stdout"
        }
      ]
    },
    {
      "cell_type": "code",
      "metadata": {
        "colab": {
          "base_uri": "https://localhost:8080/"
        },
        "id": "XtQJlkAHOkJX",
        "outputId": "85fc4846-1966-4737-8f21-323ef6a816ca"
      },
      "source": [
        "#Encapsulation\n",
        "class car:\n",
        "  __speed = 0\n",
        "  __name = \"\"\n",
        "\n",
        "  def __init__(self):\n",
        "    self.__speed = 300\n",
        "    self.__name = \"Ferrari\"\n",
        "\n",
        "  def ferro(self):\n",
        "    print(\"driving {} at the speed of {}\".format(self.__name,self.__speed))\n",
        "\n",
        "  def changespeed(self,setspeed):\n",
        "    self.__speed = setspeed\n",
        "    print(\"driving {} at the speed of {}\".format(self.__name,self.__speed))\n",
        "\n",
        "pr = car()\n",
        "pr.ferro()\n",
        "pr.changespeed('100')"
      ],
      "execution_count": null,
      "outputs": [
        {
          "output_type": "stream",
          "text": [
            "driving Ferrari at the speed of 300\n",
            "driving Ferrari at the speed of 100\n"
          ],
          "name": "stdout"
        }
      ]
    }
  ]
}