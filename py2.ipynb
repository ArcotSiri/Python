{
  "nbformat": 4,
  "nbformat_minor": 0,
  "metadata": {
    "colab": {
      "name": "Untitled9.ipynb",
      "provenance": [],
      "collapsed_sections": [],
      "authorship_tag": "ABX9TyN3jEAgtwa3ZAkkslC3B74R",
      "include_colab_link": true
    },
    "kernelspec": {
      "name": "python3",
      "display_name": "Python 3"
    },
    "language_info": {
      "name": "python"
    }
  },
  "cells": [
    {
      "cell_type": "markdown",
      "metadata": {
        "id": "view-in-github",
        "colab_type": "text"
      },
      "source": [
        "<a href=\"https://colab.research.google.com/github/ArcotSiri/Python/blob/main/py2.ipynb\" target=\"_parent\"><img src=\"https://colab.research.google.com/assets/colab-badge.svg\" alt=\"Open In Colab\"/></a>"
      ]
    },
    {
      "cell_type": "code",
      "metadata": {
        "colab": {
          "base_uri": "https://localhost:8080/"
        },
        "id": "GopKdAcMRiPY",
        "outputId": "6c85a4b6-069f-4f7a-9df5-38de49e8db6e"
      },
      "source": [
        "srr=\"abcdefgijklmnopqrstuvwxyz\"\n",
        "print(srr[19:15:-1])\n",
        "print(srr[25:16:-1])\n",
        "y = srr[7]\n",
        "x = y.upper()\n",
        "print(x+srr[8:10])"
      ],
      "execution_count": null,
      "outputs": [
        {
          "output_type": "stream",
          "text": [
            "utsr\n",
            "zyxwvuts\n",
            "Ijk\n"
          ],
          "name": "stdout"
        }
      ]
    },
    {
      "cell_type": "code",
      "metadata": {
        "id": "7pu6OjTSjk2r",
        "colab": {
          "base_uri": "https://localhost:8080/"
        },
        "outputId": "514615e2-8e3a-4052-efc4-81f5266cd7c8"
      },
      "source": [
        "print(\"Jan: {0}\\nFeb: {1}\\nMar: {2}\\nApr: {3}\\nMay: {4}\\nJun: {5}\\nJul: {6}\\nAug: {7}\\nSep: {8}\\n\"\n",
        "\"Oct: {9}\\nNov: {10}\\nDec: {11}\\n\".format(31,28,31,30,31,30,31,31,30,31,30,31))"
      ],
      "execution_count": null,
      "outputs": [
        {
          "output_type": "stream",
          "text": [
            "Jan: 31\n",
            "Feb: 28\n",
            "Mar: 31\n",
            "Apr: 30\n",
            "May: 31\n",
            "Jun: 30\n",
            "Jul: 31\n",
            "Aug: 31\n",
            "Sep: 30\n",
            "Oct: 31\n",
            "Nov: 30\n",
            "Dec: 31\n",
            "\n"
          ],
          "name": "stdout"
        }
      ]
    },
    {
      "cell_type": "code",
      "metadata": {
        "colab": {
          "base_uri": "https://localhost:8080/"
        },
        "id": "LYODxtQZVU4v",
        "outputId": "7c6c6cc0-cf86-4807-88b7-c45132516213"
      },
      "source": [
        "for i in range(0,7):\n",
        "  print('chikki')\n",
        "print('hello')"
      ],
      "execution_count": null,
      "outputs": [
        {
          "output_type": "stream",
          "text": [
            "chikki\n",
            "chikki\n",
            "chikki\n",
            "chikki\n",
            "chikki\n",
            "chikki\n",
            "chikki\n",
            "hello\n"
          ],
          "name": "stdout"
        }
      ]
    },
    {
      "cell_type": "code",
      "metadata": {
        "colab": {
          "base_uri": "https://localhost:8080/"
        },
        "id": "OxP3dMvKbX4w",
        "outputId": "cb229217-315f-494b-b217-15f6f7c9f736"
      },
      "source": [
        "rank = int(input('What\\'s your rank?'))\n",
        "if rank<17:\n",
        "  print('Congrats! You\\'re selected')\n",
        "elif rank==17:\n",
        "  print('You will get a second chance')\n",
        "else:\n",
        "  print('Better luck next time')"
      ],
      "execution_count": null,
      "outputs": [
        {
          "output_type": "stream",
          "text": [
            "What's your rank?17\n",
            "You will get a second chance\n"
          ],
          "name": "stdout"
        }
      ]
    },
    {
      "cell_type": "code",
      "metadata": {
        "colab": {
          "base_uri": "https://localhost:8080/"
        },
        "id": "u1MBS2RrTnzy",
        "outputId": "2fe6c609-55f1-4a6a-eeff-fc44a0d6c022"
      },
      "source": [
        "import random\n",
        "dice = random.randint(1,6) #includes 1 and 6 also\n",
        "print(dice)\n",
        "game=int(input(\"Guess the number:\"))\n",
        "if game==dice:\n",
        "  print('You won!!!')\n",
        "else:\n",
        "  print('There\\'s a second chance waiting for you. Guess the number\\n')\n",
        "  second=int(input())\n",
        "  if second==dice:\n",
        "    print('You won!!!')\n",
        "  else:\n",
        "    print('Better luck next time')\n",
        "print('Done with the game')"
      ],
      "execution_count": null,
      "outputs": [
        {
          "output_type": "stream",
          "text": [
            "1\n",
            "Guess the number:1\n",
            "You won!!!\n",
            "Done with the game\n"
          ],
          "name": "stdout"
        }
      ]
    },
    {
      "cell_type": "code",
      "metadata": {
        "colab": {
          "base_uri": "https://localhost:8080/"
        },
        "id": "p5Z9Ac1LQSI8",
        "outputId": "4f6e3bd6-c804-49d7-e602-169ade7b3119"
      },
      "source": [
        "n = input(\"enter name\")\n",
        "if n==\"\":\n",
        "  print(\"String is empty\")\n",
        "else:\n",
        "  print(\"hello \",n)"
      ],
      "execution_count": null,
      "outputs": [
        {
          "output_type": "stream",
          "text": [
            "enter name\n",
            "String is empty\n"
          ],
          "name": "stdout"
        }
      ]
    }
  ]
}