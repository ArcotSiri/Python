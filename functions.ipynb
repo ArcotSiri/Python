{
  "nbformat": 4,
  "nbformat_minor": 0,
  "metadata": {
    "colab": {
      "name": "Untitled16.ipynb",
      "provenance": [],
      "authorship_tag": "ABX9TyOAXXrIOwBame597svj+6NJ",
      "include_colab_link": true
    },
    "kernelspec": {
      "name": "python3",
      "display_name": "Python 3"
    },
    "language_info": {
      "name": "python"
    }
  },
  "cells": [
    {
      "cell_type": "markdown",
      "metadata": {
        "id": "view-in-github",
        "colab_type": "text"
      },
      "source": [
        "<a href=\"https://colab.research.google.com/github/ArcotSiri/Python/blob/main/functions.ipynb\" target=\"_parent\"><img src=\"https://colab.research.google.com/assets/colab-badge.svg\" alt=\"Open In Colab\"/></a>"
      ]
    },
    {
      "cell_type": "code",
      "metadata": {
        "colab": {
          "base_uri": "https://localhost:8080/"
        },
        "id": "W7oHFSlmAXPc",
        "outputId": "e1f37c0a-1e93-4ab3-bad3-392698d0bd88"
      },
      "source": [
        "#Create a function that can accept two arguments name and age and print its value\n",
        "def person(name,age):\n",
        "  print(\"{} is {} years old!!!\".format(name,age))\n",
        "  return \n",
        "\n",
        "person('Siri','20')"
      ],
      "execution_count": 3,
      "outputs": [
        {
          "output_type": "stream",
          "text": [
            "Siri is 20 years old!!!\n"
          ],
          "name": "stdout"
        }
      ]
    },
    {
      "cell_type": "code",
      "metadata": {
        "colab": {
          "base_uri": "https://localhost:8080/"
        },
        "id": "WWQl0qMNCCEp",
        "outputId": "5d3a83d8-ce1a-44e1-d588-ea8d22c7e5de"
      },
      "source": [
        "#Write a function func1() such that it can accept a variable length of  argument and print all arguments value\n",
        "def func1(*var):\n",
        "  for num in var:\n",
        "    print(\"{}\\n\".format(num))\n",
        "\n",
        "func1(20,15,34)\n",
        "func1(12,567,87,45)"
      ],
      "execution_count": 14,
      "outputs": [
        {
          "output_type": "stream",
          "text": [
            "20\n",
            "\n",
            "15\n",
            "\n",
            "34\n",
            "\n",
            "12\n",
            "\n",
            "567\n",
            "\n",
            "87\n",
            "\n",
            "45\n",
            "\n"
          ],
          "name": "stdout"
        }
      ]
    },
    {
      "cell_type": "code",
      "metadata": {
        "colab": {
          "base_uri": "https://localhost:8080/"
        },
        "id": "-Anrzw9HEZDv",
        "outputId": "a4a66e60-8fed-4344-ea64-401ea58981d1"
      },
      "source": [
        "# Write a function calculation() such that it can accept two variables and calculate the addition and subtraction of them. And also it must return both addition and subtraction in a single return call\n",
        "def calculation(n1,n2):\n",
        "  add = n1+n2\n",
        "  sub = n1-n2\n",
        "  return add, sub\n",
        "\n",
        "calculation(50,20)"
      ],
      "execution_count": 15,
      "outputs": [
        {
          "output_type": "execute_result",
          "data": {
            "text/plain": [
              "(70, 30)"
            ]
          },
          "metadata": {
            "tags": []
          },
          "execution_count": 15
        }
      ]
    },
    {
      "cell_type": "code",
      "metadata": {
        "colab": {
          "base_uri": "https://localhost:8080/"
        },
        "id": "js_epZDyFgZF",
        "outputId": "dd6cebac-5456-4925-dac2-58b4291ef0ff"
      },
      "source": [
        "#Create a function showEmployee() in such a way that it should accept employee name, and its salary and display both. If the salary is missing in the function call assign default value 9000 to salary\n",
        "def showEmployee(name, salary=9000):\n",
        "  print(\"{}'s salary is {}\".format(name,salary))\n",
        "\n",
        "showEmployee('Ben',20000)\n",
        "showEmployee('Altaf')"
      ],
      "execution_count": 1,
      "outputs": [
        {
          "output_type": "stream",
          "text": [
            "Ben's salary is 20000\n",
            "Altaf's salary is 9000\n"
          ],
          "name": "stdout"
        }
      ]
    }
  ]
}