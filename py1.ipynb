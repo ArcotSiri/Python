{
  "nbformat": 4,
  "nbformat_minor": 0,
  "metadata": {
    "colab": {
      "name": "Untitled8.ipynb",
      "provenance": [],
      "authorship_tag": "ABX9TyPoYapTn2qRIVMhpA7RloVz",
      "include_colab_link": true
    },
    "kernelspec": {
      "name": "python3",
      "display_name": "Python 3"
    },
    "language_info": {
      "name": "python"
    }
  },
  "cells": [
    {
      "cell_type": "markdown",
      "metadata": {
        "id": "view-in-github",
        "colab_type": "text"
      },
      "source": [
        "<a href=\"https://colab.research.google.com/github/ArcotSiri/Python/blob/main/py1.ipynb\" target=\"_parent\"><img src=\"https://colab.research.google.com/assets/colab-badge.svg\" alt=\"Open In Colab\"/></a>"
      ]
    },
    {
      "cell_type": "code",
      "metadata": {
        "colab": {
          "base_uri": "https://localhost:8080/"
        },
        "id": "RP4V6ZjUClPq",
        "outputId": "0cb54014-7b2b-4463-a4c4-77c1b14d4205"
      },
      "source": [
        "first='''ARCOT'''\n",
        "second='''Siri'''\n",
        "print(first+' '+second)\n",
        "print(first,second)"
      ],
      "execution_count": null,
      "outputs": [
        {
          "output_type": "stream",
          "text": [
            "ARCOT Siri\n",
            "ARCOT Siri\n"
          ],
          "name": "stdout"
        }
      ]
    },
    {
      "cell_type": "code",
      "metadata": {
        "colab": {
          "base_uri": "https://localhost:8080/"
        },
        "id": "rw_5aqge8ZLX",
        "outputId": "83df06bc-8c93-4361-ac9b-bd01e0c85555"
      },
      "source": [
        "#negative indexing\n",
        "msg=\"you are crazy\"\n",
        "print(msg[-1])\n",
        "print(msg[2-4])\n",
        "print(msg[-2])"
      ],
      "execution_count": null,
      "outputs": [
        {
          "output_type": "stream",
          "text": [
            "y\n",
            "z\n",
            "z\n"
          ],
          "name": "stdout"
        }
      ]
    },
    {
      "cell_type": "code",
      "metadata": {
        "colab": {
          "base_uri": "https://localhost:8080/"
        },
        "id": "B93SczyEGc4e",
        "outputId": "b6344e02-d3b2-4b3a-e91b-9f62761a8188"
      },
      "source": [
        "strr='siri '\n",
        "e=strr*10\n",
        "print(e)"
      ],
      "execution_count": null,
      "outputs": [
        {
          "output_type": "stream",
          "text": [
            "siri siri siri siri siri siri siri siri siri siri \n"
          ],
          "name": "stdout"
        }
      ]
    },
    {
      "cell_type": "code",
      "metadata": {
        "colab": {
          "base_uri": "https://localhost:8080/"
        },
        "id": "EIMeBENFHmnO",
        "outputId": "0d82422f-8cb6-414a-9007-17cf03b7a31f"
      },
      "source": [
        "#finding quotient\n",
        "a=15//2\n",
        "print(a)"
      ],
      "execution_count": null,
      "outputs": [
        {
          "output_type": "stream",
          "text": [
            "7\n"
          ],
          "name": "stdout"
        }
      ]
    },
    {
      "cell_type": "code",
      "metadata": {
        "colab": {
          "base_uri": "https://localhost:8080/"
        },
        "id": "1bY5N9jZJzON",
        "outputId": "c91db331-2a02-4624-d98e-d7ab0b8c0401"
      },
      "source": [
        "a,b,c=2,5.6,'syu'\n",
        "print(a,b,c)\n",
        "print(c)"
      ],
      "execution_count": null,
      "outputs": [
        {
          "output_type": "stream",
          "text": [
            "2 5.6 syu\n",
            "syu\n"
          ],
          "name": "stdout"
        }
      ]
    },
    {
      "cell_type": "code",
      "metadata": {
        "colab": {
          "base_uri": "https://localhost:8080/"
        },
        "id": "DTWi0Bae8b6Z",
        "outputId": "cc982e20-ce73-4716-db33-1c238fbfb2cb"
      },
      "source": [
        "a=int(input())\n",
        "print(a)"
      ],
      "execution_count": null,
      "outputs": [
        {
          "output_type": "stream",
          "text": [
            "2\n",
            "2\n"
          ],
          "name": "stdout"
        }
      ]
    },
    {
      "cell_type": "code",
      "metadata": {
        "colab": {
          "base_uri": "https://localhost:8080/"
        },
        "id": "Ir4W8dWthWp5",
        "outputId": "7d7849a7-fad9-4622-bf40-7fe03f0ea1ea"
      },
      "source": [
        "for i in range(1,5): #doesn't include 5\n",
        "  print(i)"
      ],
      "execution_count": null,
      "outputs": [
        {
          "output_type": "stream",
          "text": [
            "1\n",
            "2\n",
            "3\n",
            "4\n"
          ],
          "name": "stdout"
        }
      ]
    },
    {
      "cell_type": "code",
      "metadata": {
        "colab": {
          "base_uri": "https://localhost:8080/"
        },
        "id": "SRSXGrRSkOoM",
        "outputId": "8443fc90-8bed-41f3-ad1d-9f0601a9c804"
      },
      "source": [
        "for i in range(-5,2): \n",
        "  print(i)"
      ],
      "execution_count": null,
      "outputs": [
        {
          "output_type": "stream",
          "text": [
            "-5\n",
            "-4\n",
            "-3\n",
            "-2\n",
            "-1\n",
            "0\n",
            "1\n"
          ],
          "name": "stdout"
        }
      ]
    },
    {
      "cell_type": "code",
      "metadata": {
        "colab": {
          "base_uri": "https://localhost:8080/"
        },
        "id": "rfSQJvYqlRTi",
        "outputId": "ad83f615-53d5-4da4-8a4f-fffdf278bfbd"
      },
      "source": [
        "for i in range(20,5,-2):\n",
        "  print(i)"
      ],
      "execution_count": null,
      "outputs": [
        {
          "output_type": "stream",
          "text": [
            "20\n",
            "18\n",
            "16\n",
            "14\n",
            "12\n",
            "10\n",
            "8\n",
            "6\n"
          ],
          "name": "stdout"
        }
      ]
    },
    {
      "cell_type": "code",
      "metadata": {
        "colab": {
          "base_uri": "https://localhost:8080/"
        },
        "id": "UdEzwtadlX5I",
        "outputId": "133e479b-976d-4fe6-c35a-515f6b4d6d49"
      },
      "source": [
        "\n",
        "temperature = int(input())\n",
        "\n",
        "if temperature in range(20,100):\n",
        "  print('Acceptable')\n",
        "else:\n",
        "  print('be cautious')\n",
        "  "
      ],
      "execution_count": null,
      "outputs": [
        {
          "output_type": "stream",
          "text": [
            "19\n",
            "be cautious\n"
          ],
          "name": "stdout"
        }
      ]
    },
    {
      "cell_type": "code",
      "metadata": {
        "colab": {
          "base_uri": "https://localhost:8080/"
        },
        "id": "iz96TbettyLY",
        "outputId": "5b04ec6a-1338-4dff-c34a-57e5e1cc16a5"
      },
      "source": [
        "for i in range(1,10):\n",
        "  for j in range(1,10):\n",
        "    #print(i,'*',j,'=',i*j)\n",
        "    print('{} x {} = {}'.format(i,j,i*j))\n",
        "  print('___________\\n')"
      ],
      "execution_count": null,
      "outputs": [
        {
          "output_type": "stream",
          "text": [
            "1 x 1 = 1\n",
            "1 x 2 = 2\n",
            "1 x 3 = 3\n",
            "1 x 4 = 4\n",
            "1 x 5 = 5\n",
            "1 x 6 = 6\n",
            "1 x 7 = 7\n",
            "1 x 8 = 8\n",
            "1 x 9 = 9\n",
            "___________\n",
            "\n",
            "2 x 1 = 2\n",
            "2 x 2 = 4\n",
            "2 x 3 = 6\n",
            "2 x 4 = 8\n",
            "2 x 5 = 10\n",
            "2 x 6 = 12\n",
            "2 x 7 = 14\n",
            "2 x 8 = 16\n",
            "2 x 9 = 18\n",
            "___________\n",
            "\n",
            "3 x 1 = 3\n",
            "3 x 2 = 6\n",
            "3 x 3 = 9\n",
            "3 x 4 = 12\n",
            "3 x 5 = 15\n",
            "3 x 6 = 18\n",
            "3 x 7 = 21\n",
            "3 x 8 = 24\n",
            "3 x 9 = 27\n",
            "___________\n",
            "\n",
            "4 x 1 = 4\n",
            "4 x 2 = 8\n",
            "4 x 3 = 12\n",
            "4 x 4 = 16\n",
            "4 x 5 = 20\n",
            "4 x 6 = 24\n",
            "4 x 7 = 28\n",
            "4 x 8 = 32\n",
            "4 x 9 = 36\n",
            "___________\n",
            "\n",
            "5 x 1 = 5\n",
            "5 x 2 = 10\n",
            "5 x 3 = 15\n",
            "5 x 4 = 20\n",
            "5 x 5 = 25\n",
            "5 x 6 = 30\n",
            "5 x 7 = 35\n",
            "5 x 8 = 40\n",
            "5 x 9 = 45\n",
            "___________\n",
            "\n",
            "6 x 1 = 6\n",
            "6 x 2 = 12\n",
            "6 x 3 = 18\n",
            "6 x 4 = 24\n",
            "6 x 5 = 30\n",
            "6 x 6 = 36\n",
            "6 x 7 = 42\n",
            "6 x 8 = 48\n",
            "6 x 9 = 54\n",
            "___________\n",
            "\n",
            "7 x 1 = 7\n",
            "7 x 2 = 14\n",
            "7 x 3 = 21\n",
            "7 x 4 = 28\n",
            "7 x 5 = 35\n",
            "7 x 6 = 42\n",
            "7 x 7 = 49\n",
            "7 x 8 = 56\n",
            "7 x 9 = 63\n",
            "___________\n",
            "\n",
            "8 x 1 = 8\n",
            "8 x 2 = 16\n",
            "8 x 3 = 24\n",
            "8 x 4 = 32\n",
            "8 x 5 = 40\n",
            "8 x 6 = 48\n",
            "8 x 7 = 56\n",
            "8 x 8 = 64\n",
            "8 x 9 = 72\n",
            "___________\n",
            "\n",
            "9 x 1 = 9\n",
            "9 x 2 = 18\n",
            "9 x 3 = 27\n",
            "9 x 4 = 36\n",
            "9 x 5 = 45\n",
            "9 x 6 = 54\n",
            "9 x 7 = 63\n",
            "9 x 8 = 72\n",
            "9 x 9 = 81\n",
            "___________\n",
            "\n"
          ],
          "name": "stdout"
        }
      ]
    },
    {
      "cell_type": "code",
      "metadata": {
        "colab": {
          "base_uri": "https://localhost:8080/"
        },
        "id": "UsXX7U7Y3TzH",
        "outputId": "8e8e88fc-34f9-4824-8a80-3c45b176573a"
      },
      "source": [
        "cars_list=[\"Audi\",\"Ferrari\",\"Honda\",\"BMW\"]\n",
        "for i in cars_list:\n",
        "  if i==\"Honda\":\n",
        "    continue\n",
        "  print('I wish to buy '+i)"
      ],
      "execution_count": null,
      "outputs": [
        {
          "output_type": "stream",
          "text": [
            "I wish to buy Audi\n",
            "I wish to buy Ferrari\n",
            "I wish to buy BMW\n"
          ],
          "name": "stdout"
        }
      ]
    },
    {
      "cell_type": "code",
      "metadata": {
        "colab": {
          "base_uri": "https://localhost:8080/"
        },
        "id": "2APGyGJSu5cg",
        "outputId": "436a687a-802a-4f5b-b368-de064cbfb8f3"
      },
      "source": [
        "a=2\n",
        "b=5\n",
        "c= a*b\n",
        "print(c)\n",
        "print(a,'*',b,'=',a*b)"
      ],
      "execution_count": null,
      "outputs": [
        {
          "output_type": "stream",
          "text": [
            "10\n",
            "2 * 5 = 10\n"
          ],
          "name": "stdout"
        }
      ]
    },
    {
      "cell_type": "code",
      "metadata": {
        "colab": {
          "base_uri": "https://localhost:8080/"
        },
        "id": "m7e4y5NRmbP6",
        "outputId": "b95afa95-682e-49a8-859a-2ce90112d896"
      },
      "source": [
        "cars_list=[\"Audi\",\"Ferrari\",\"Honda\",\"BMW\"]\n",
        "chosen=\"\"\n",
        "while chosen not in cars_list:\n",
        "  chosen=input()\n",
        "print(\"enjoy riding your {} !\".format(chosen))\n"
      ],
      "execution_count": 7,
      "outputs": [
        {
          "output_type": "stream",
          "text": [
            "FDG\n",
            "RTYUI\n",
            "R\n",
            "DRFTYUI\n",
            "Ferrari\n",
            "enjoy riding your Ferrari !\n"
          ],
          "name": "stdout"
        }
      ]
    },
    {
      "cell_type": "code",
      "metadata": {
        "colab": {
          "base_uri": "https://localhost:8080/"
        },
        "id": "PxRWXhMl6l6Y",
        "outputId": "8094e7b5-9af4-489b-c90a-8d10638ed199"
      },
      "source": [
        "colors = ['Black','Purple','Deep blue']\n",
        "\n",
        "chosen=\"\"\n",
        "\n",
        "while chosen not in colors:\n",
        "  chosen=input()\n",
        "  if chosen.casefold()=='quit':\n",
        "    break\n",
        "\n",
        "if chosen in colors:\n",
        "  print('Your color {} looks attracting'.format(chosen))"
      ],
      "execution_count": 3,
      "outputs": [
        {
          "output_type": "stream",
          "text": [
            "jsdf\n",
            "r4t\n",
            "Black\n",
            "Your color Black looks attracting\n"
          ],
          "name": "stdout"
        }
      ]
    },
    {
      "cell_type": "code",
      "metadata": {
        "colab": {
          "base_uri": "https://localhost:8080/"
        },
        "id": "f48ZjsJDfYs-",
        "outputId": "3448a797-8be6-49fd-84a7-deb319ed992e"
      },
      "source": [
        "#Counting Number of guesses\n",
        "colors = ['Black','Purple','Deep blue']\n",
        "count=0\n",
        "chosen=\"\"\n",
        "\n",
        "while chosen not in colors:\n",
        "  chosen=input()\n",
        "  count = count +1\n",
        "  if chosen.casefold()=='quit':\n",
        "    break\n",
        "\n",
        "if chosen in colors:\n",
        "  print('Your color {} looks attracting'.format(chosen))\n",
        "  print(count)"
      ],
      "execution_count": 6,
      "outputs": [
        {
          "output_type": "stream",
          "text": [
            "rrt8\n",
            "trr6\n",
            "Black\n",
            "Your color Black looks attracting\n",
            "3\n"
          ],
          "name": "stdout"
        }
      ]
    }
  ]
}