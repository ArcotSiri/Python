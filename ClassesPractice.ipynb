{
  "nbformat": 4,
  "nbformat_minor": 0,
  "metadata": {
    "colab": {
      "name": "Untitled18.ipynb",
      "provenance": [],
      "collapsed_sections": [],
      "authorship_tag": "ABX9TyPyHjNMIiDmaJKLP+ccmOSj",
      "include_colab_link": true
    },
    "kernelspec": {
      "name": "python3",
      "display_name": "Python 3"
    },
    "language_info": {
      "name": "python"
    }
  },
  "cells": [
    {
      "cell_type": "markdown",
      "metadata": {
        "id": "view-in-github",
        "colab_type": "text"
      },
      "source": [
        "<a href=\"https://colab.research.google.com/github/ArcotSiri/Python/blob/main/ClassesPractice.ipynb\" target=\"_parent\"><img src=\"https://colab.research.google.com/assets/colab-badge.svg\" alt=\"Open In Colab\"/></a>"
      ]
    },
    {
      "cell_type": "code",
      "metadata": {
        "colab": {
          "base_uri": "https://localhost:8080/"
        },
        "id": "Fl7XT340vqnu",
        "outputId": "427f5a43-b81b-4281-ac36-fb993767ae78"
      },
      "source": [
        "import math\n",
        "\n",
        "class circle:\n",
        "  radius = 0\n",
        "  def getArea(self,radius):\n",
        "    self.radius = math.pi*(radius*radius)\n",
        "    print(\"Area of the circle is : {:.2f}\".format(self.radius))\n",
        "\n",
        "  def getCircumference(self,radius):\n",
        "    self.radius = 2*(math.pi)*radius\n",
        "    print(\"Circumference of the circle is : {:.2f}\".format(self.radius))\n",
        "\n",
        "c = circle()\n",
        "c.getArea(int(input().strip()))\n",
        "c.getCircumference(int(input().strip()))"
      ],
      "execution_count": 15,
      "outputs": [
        {
          "output_type": "stream",
          "text": [
            "20\n",
            "Area of the circle is : 1256.64\n",
            "22\n",
            "Circumference of the circle is : 138.23\n"
          ],
          "name": "stdout"
        }
      ]
    },
    {
      "cell_type": "code",
      "metadata": {
        "colab": {
          "base_uri": "https://localhost:8080/"
        },
        "id": "rH9aTXXtPgr7",
        "outputId": "ea4f9b00-6ed6-466a-a14e-b1c3c489bd2a"
      },
      "source": [
        "class temp:\n",
        "  def convertFahrenheit(self,celsius):\n",
        "    self.celsius = (celsius*9/5)+32\n",
        "    print(\"{} celcius = {} Fahrenheit\".format(celsius,self.celsius))\n",
        "t = temp()\n",
        "t.convertFahrenheit(5)"
      ],
      "execution_count": 17,
      "outputs": [
        {
          "output_type": "stream",
          "text": [
            "5 celcius = 41.0 Fahrenheit\n"
          ],
          "name": "stdout"
        }
      ]
    },
    {
      "cell_type": "code",
      "metadata": {
        "colab": {
          "base_uri": "https://localhost:8080/"
        },
        "id": "SEfnN6xEhxkc",
        "outputId": "b7e4670e-b4ff-4e8c-e47c-33d08239f2b0"
      },
      "source": [
        "class student:\n",
        "  def __init__(self,name,roll):\n",
        "    self.name = name\n",
        "    self.roll = roll\n",
        "  def display(self):\n",
        "    print(\"name: {}\\nroll no: {}\".format(self.name,self.roll))\n",
        "  def setAge(self,age):\n",
        "    self.age = age\n",
        "    print(\"age: {}\".format(self.age))\n",
        "  def setMarks(self,marks):\n",
        "    self.marks = marks\n",
        "    print(\"marks: {}\".format(self.marks))\n",
        "\n",
        "s = student('siri','5c9')\n",
        "s.display()\n",
        "s.setAge('20')\n",
        "s.setMarks('200')"
      ],
      "execution_count": 22,
      "outputs": [
        {
          "output_type": "stream",
          "text": [
            "name: siri\n",
            "roll no: 5c9\n",
            "age: 20\n",
            "marks: 200\n"
          ],
          "name": "stdout"
        }
      ]
    },
    {
      "cell_type": "code",
      "metadata": {
        "colab": {
          "base_uri": "https://localhost:8080/"
        },
        "id": "K9V7DIA12k--",
        "outputId": "d5452809-e6b7-4f9e-ebf0-9daccad30c53"
      },
      "source": [
        "h1 = int(input(\"Enter hours and minutes  \"))\n",
        "m1 = int(input().strip())\n",
        "h2 = int(input().strip())\n",
        "m2 = int(input().strip())\n",
        "hours = h1+h2\n",
        "totalminutes = m1+m2\n",
        "if totalminutes>60:\n",
        "  minutes = totalminutes-60\n",
        "  hours += 1\n",
        "\n",
        "print(\"{} hours and {} minutes\".format(hours,minutes))"
      ],
      "execution_count": 25,
      "outputs": [
        {
          "output_type": "stream",
          "text": [
            "Enter hours and minutes  6\n",
            "35\n",
            "4\n",
            "47\n",
            "11 hours and 22 minutes\n"
          ],
          "name": "stdout"
        }
      ]
    },
    {
      "cell_type": "code",
      "metadata": {
        "colab": {
          "base_uri": "https://localhost:8080/"
        },
        "id": "2ijSjP9i71Zv",
        "outputId": "31d8647a-5bb4-4504-ad48-c9ed05977cd7"
      },
      "source": [
        "#WRONG OUTPUT\n",
        "my_str = input()\n",
        "sep = \"\"\n",
        "for i in range(len(my_str)):\n",
        "  if my_str[i] in ('a','e','i','o','u'):\n",
        "    x = my_str[i]\n",
        "\n",
        "for i in range(len(my_str)):\n",
        "  if my_str[i] not in ('a','e','i','o','u'):\n",
        "    y = my_str[i]\n",
        "\n",
        "print(\"{} {}\".format(x,y))"
      ],
      "execution_count": 76,
      "outputs": [
        {
          "output_type": "stream",
          "text": [
            "cuip\n",
            "i p\n"
          ],
          "name": "stdout"
        }
      ]
    },
    {
      "cell_type": "code",
      "metadata": {
        "colab": {
          "base_uri": "https://localhost:8080/"
        },
        "id": "V43T4PJdFqtF",
        "outputId": "fc96634a-6bd0-4294-adee-7cca232dc3fa"
      },
      "source": [
        "vcount = 0;  \n",
        "ccount = 0;  \n",
        "str = \"This is a really simple sentence\";  \n",
        "   \n",
        "#Converting entire string to lower case to reduce the comparisons  \n",
        "str = str.lower();  \n",
        "for i in range(0,len(str)):   \n",
        "    #Checks whether a character is a vowel  \n",
        "    if str[i] in ('a',\"e\",\"i\",\"o\",\"u\"):  \n",
        "        vcount = vcount + 1;  \n",
        "    elif (str[i] >= 'a' and str[i] <= 'z'):  \n",
        "        ccount = ccount + 1;  \n",
        "print(\"Total number of vowel and consonant are\" );  \n",
        "print(vcount);  \n",
        "print(ccount);  "
      ],
      "execution_count": 42,
      "outputs": [
        {
          "output_type": "stream",
          "text": [
            "Total number of vowel and consonant are\n",
            "10\n",
            "17\n"
          ],
          "name": "stdout"
        }
      ]
    }
  ]
}