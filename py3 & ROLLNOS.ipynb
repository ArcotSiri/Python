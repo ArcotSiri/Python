{
  "nbformat": 4,
  "nbformat_minor": 0,
  "metadata": {
    "colab": {
      "name": "Untitled11.ipynb",
      "provenance": [],
      "collapsed_sections": [],
      "authorship_tag": "ABX9TyPwGBjF//jphVVAT+g00PzM",
      "include_colab_link": true
    },
    "kernelspec": {
      "name": "python3",
      "display_name": "Python 3"
    },
    "language_info": {
      "name": "python"
    }
  },
  "cells": [
    {
      "cell_type": "markdown",
      "metadata": {
        "id": "view-in-github",
        "colab_type": "text"
      },
      "source": [
        "<a href=\"https://colab.research.google.com/github/ArcotSiri/Python/blob/main/py3%20%26%20ROLLNOS.ipynb\" target=\"_parent\"><img src=\"https://colab.research.google.com/assets/colab-badge.svg\" alt=\"Open In Colab\"/></a>"
      ]
    },
    {
      "cell_type": "code",
      "metadata": {
        "colab": {
          "base_uri": "https://localhost:8080/"
        },
        "id": "1cQ3CDyAc88E",
        "outputId": "2dea4257-e38e-430a-e686-6792292cf483"
      },
      "source": [
        "y=complex(9,300)\n",
        "print(y)"
      ],
      "execution_count": 3,
      "outputs": [
        {
          "output_type": "stream",
          "text": [
            "(9+300j)\n"
          ],
          "name": "stdout"
        }
      ]
    },
    {
      "cell_type": "code",
      "metadata": {
        "colab": {
          "base_uri": "https://localhost:8080/"
        },
        "id": "sGtUlTXpvXSQ",
        "outputId": "96e3f1f2-36b6-4e93-cced-9597636126af"
      },
      "source": [
        "#MATH module\n",
        "import math\n",
        "a=abs(-20) #absolute value\n",
        "print(a)\n",
        "b=print(math.ceil(2.5))\n",
        "c=print(math.floor(2.3))\n",
        "d=print(math.sqrt(25))\n",
        "e=print(math.pow(2,3))"
      ],
      "execution_count": 5,
      "outputs": [
        {
          "output_type": "stream",
          "text": [
            "20\n",
            "3\n",
            "2\n",
            "5.0\n",
            "8.0\n"
          ],
          "name": "stdout"
        }
      ]
    },
    {
      "cell_type": "code",
      "metadata": {
        "id": "W4ny_6aBwpQk"
      },
      "source": [
        "print(math.pi)\n",
        "print(math.e)"
      ],
      "execution_count": null,
      "outputs": []
    },
    {
      "cell_type": "code",
      "metadata": {
        "colab": {
          "base_uri": "https://localhost:8080/"
        },
        "id": "3A2ECRDpaMed",
        "outputId": "628b3a8a-1691-4443-ecb8-f3c63da659bd"
      },
      "source": [
        "a=ord('S') #prints ASCII value\n",
        "print(a)"
      ],
      "execution_count": 1,
      "outputs": [
        {
          "output_type": "stream",
          "text": [
            "83\n"
          ],
          "name": "stdout"
        }
      ]
    },
    {
      "cell_type": "code",
      "metadata": {
        "colab": {
          "base_uri": "https://localhost:8080/"
        },
        "id": "YcE0VFQtF4-c",
        "outputId": "4b4b2e1f-1043-486c-a0cc-ae25e3355140"
      },
      "source": [
        "from datetime import date\n",
        "today = date.today()\n",
        "\n",
        "\n",
        "rolls=['c2','c3','c4','c5','c6','c7','c8','c9','d0','d2','d3','d4','d5','d6','d7','d8','d9','e0','e1','e2','e3','e4','e5','e6','e7','e8','f0','f1','f2','f3','f4','f5','f6','f7','f8','f9','g0','g2','g3','g4','g5','g6','g7','g8','g9','h0','h1','h2','h3','h4','h5','h6','h7','h8','h9','i0','i1','i2','i3','516','517','518','519','520','521']\n",
        "rr=input()\n",
        "present = rr.split() \n",
        "y=list(set(rolls)-set(present))\n",
        "print(\"{} absentees:\\n\".format(today))\n",
        "f=sorted(y)\n",
        "print(*f)\n"
      ],
      "execution_count": 56,
      "outputs": [
        {
          "output_type": "stream",
          "text": [
            "c7\n",
            "2021-05-26 absentees:\n",
            "\n",
            "516 517 518 519 520 521 c2 c3 c4 c5 c6 c8 c9 d0 d2 d3 d4 d5 d6 d7 d8 d9 e0 e1 e2 e3 e4 e5 e6 e7 e8 f0 f1 f2 f3 f4 f5 f6 f7 f8 f9 g0 g2 g3 g4 g5 g6 g7 g8 g9 h0 h1 h2 h3 h4 h5 h6 h7 h8 h9 i0 i1 i2 i3\n"
          ],
          "name": "stdout"
        }
      ]
    }
  ]
}