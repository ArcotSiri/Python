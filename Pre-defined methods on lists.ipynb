{
  "nbformat": 4,
  "nbformat_minor": 0,
  "metadata": {
    "colab": {
      "name": "Untitled13.ipynb",
      "provenance": [],
      "authorship_tag": "ABX9TyOB+n5VA3DOdUMeEZ4RNau4",
      "include_colab_link": true
    },
    "kernelspec": {
      "name": "python3",
      "display_name": "Python 3"
    },
    "language_info": {
      "name": "python"
    }
  },
  "cells": [
    {
      "cell_type": "markdown",
      "metadata": {
        "id": "view-in-github",
        "colab_type": "text"
      },
      "source": [
        "<a href=\"https://colab.research.google.com/github/ArcotSiri/Python/blob/main/Pre-defined%20methods%20on%20lists.ipynb\" target=\"_parent\"><img src=\"https://colab.research.google.com/assets/colab-badge.svg\" alt=\"Open In Colab\"/></a>"
      ]
    },
    {
      "cell_type": "code",
      "metadata": {
        "colab": {
          "base_uri": "https://localhost:8080/"
        },
        "id": "peKNOIe7UFPn",
        "outputId": "b9f81bb9-3cba-4cb3-f41e-7cac8f122d9a"
      },
      "source": [
        "#Pre-defined methods of lists\n",
        "colors = ['black','deep blue','purple','pink']\n",
        "lucky = [1,4,3,7]\n",
        "print(colors)\n",
        "print(lucky)\n",
        "colors.append('magenta')\n",
        "lucky.append([2,7])\n",
        "print(colors)\n",
        "print(lucky)"
      ],
      "execution_count": 14,
      "outputs": [
        {
          "output_type": "stream",
          "text": [
            "['black', 'deep blue', 'purple', 'pink']\n",
            "[1, 4, 3, 7]\n",
            "['black', 'deep blue', 'purple', 'pink', 'magenta']\n",
            "[1, 4, 3, 7, [2, 7]]\n"
          ],
          "name": "stdout"
        }
      ]
    },
    {
      "cell_type": "code",
      "metadata": {
        "colab": {
          "base_uri": "https://localhost:8080/"
        },
        "id": "olGta4xjQAKu",
        "outputId": "fd2b6fd5-dc34-4d00-9ce9-7203efb63665"
      },
      "source": [
        "colors = ['black','deep blue','purple','pink']\n",
        "print(colors)\n",
        "colors.extend([1,4,3,7]*2)\n",
        "print(colors)"
      ],
      "execution_count": 16,
      "outputs": [
        {
          "output_type": "stream",
          "text": [
            "['black', 'deep blue', 'purple', 'pink']\n",
            "['black', 'deep blue', 'purple', 'pink', 1, 4, 3, 7, 1, 4, 3, 7]\n"
          ],
          "name": "stdout"
        }
      ]
    },
    {
      "cell_type": "code",
      "metadata": {
        "colab": {
          "base_uri": "https://localhost:8080/"
        },
        "id": "aURP1MvoQcRb",
        "outputId": "c4d38eb2-7584-4bd0-a183-07ebe811c37a"
      },
      "source": [
        "lucky = [1,4,3,7]\n",
        "print(lucky)\n",
        "lucky.remove(4)\n",
        "print(lucky)"
      ],
      "execution_count": 17,
      "outputs": [
        {
          "output_type": "stream",
          "text": [
            "[1, 4, 3, 7]\n",
            "[1, 3, 7]\n"
          ],
          "name": "stdout"
        }
      ]
    },
    {
      "cell_type": "code",
      "metadata": {
        "colab": {
          "base_uri": "https://localhost:8080/"
        },
        "id": "pK0onzZgQtxe",
        "outputId": "3fb53473-94d4-4589-d566-b2526edd7729"
      },
      "source": [
        "lucky = [1,4,3,7]\n",
        "print(lucky)\n",
        "lucky.clear()\n",
        "print(lucky)"
      ],
      "execution_count": 18,
      "outputs": [
        {
          "output_type": "stream",
          "text": [
            "[1, 4, 3, 7]\n",
            "[]\n"
          ],
          "name": "stdout"
        }
      ]
    },
    {
      "cell_type": "code",
      "metadata": {
        "colab": {
          "base_uri": "https://localhost:8080/"
        },
        "id": "Eu_U2mhoQ-n2",
        "outputId": "c17bf9bb-8f47-4d35-d21b-2756352aa2fd"
      },
      "source": [
        "colors = ['black','deep blue','purple','pink']\n",
        "print(colors)\n",
        "colors.pop(2)\n",
        "print(colors)\n",
        "\n",
        "lucky = [1,4,3,7]\n",
        "print(lucky)\n",
        "lucky.pop(3)\n",
        "print(lucky)"
      ],
      "execution_count": 22,
      "outputs": [
        {
          "output_type": "stream",
          "text": [
            "['black', 'deep blue', 'purple', 'pink']\n",
            "['black', 'deep blue', 'pink']\n",
            "[1, 4, 3, 7]\n",
            "[1, 4, 3]\n"
          ],
          "name": "stdout"
        }
      ]
    },
    {
      "cell_type": "code",
      "metadata": {
        "colab": {
          "base_uri": "https://localhost:8080/"
        },
        "id": "QSHnhtxERio-",
        "outputId": "eab6e280-7468-4dab-ee78-a21a1755d038"
      },
      "source": [
        "colors = ['black','deep blue','purple','pink']\n",
        "print(colors)\n",
        "y = colors.index('deep blue')\n",
        "print(y)"
      ],
      "execution_count": 23,
      "outputs": [
        {
          "output_type": "stream",
          "text": [
            "['black', 'deep blue', 'purple', 'pink']\n",
            "1\n"
          ],
          "name": "stdout"
        }
      ]
    },
    {
      "cell_type": "code",
      "metadata": {
        "colab": {
          "base_uri": "https://localhost:8080/"
        },
        "id": "kGpOZzUQR5IK",
        "outputId": "a748a0df-68b4-4253-f433-dffbca64a5c4"
      },
      "source": [
        "colors = ['black','deep blue','purple','pink','black']\n",
        "print(colors)\n",
        "zz=colors.count('black')\n",
        "print(zz)"
      ],
      "execution_count": 24,
      "outputs": [
        {
          "output_type": "stream",
          "text": [
            "['black', 'deep blue', 'purple', 'pink', 'black']\n",
            "2\n"
          ],
          "name": "stdout"
        }
      ]
    },
    {
      "cell_type": "code",
      "metadata": {
        "colab": {
          "base_uri": "https://localhost:8080/"
        },
        "id": "2wTolkyGSLEV",
        "outputId": "550f54fe-1684-46b6-c5bc-feeacc9fac64"
      },
      "source": [
        "colors = ['black','deep blue','purple','pink','black']\n",
        "print(colors)\n",
        "colors.sort()\n",
        "print(colors)\n",
        "colors.sort(reverse=True)\n",
        "print(colors)"
      ],
      "execution_count": 2,
      "outputs": [
        {
          "output_type": "stream",
          "text": [
            "['black', 'deep blue', 'purple', 'pink', 'black']\n",
            "['black', 'black', 'deep blue', 'pink', 'purple']\n",
            "['purple', 'pink', 'deep blue', 'black', 'black']\n"
          ],
          "name": "stdout"
        }
      ]
    },
    {
      "cell_type": "code",
      "metadata": {
        "colab": {
          "base_uri": "https://localhost:8080/"
        },
        "id": "wdpjzlumyYQs",
        "outputId": "3660a2c5-5887-4f01-b674-3a930be0438f"
      },
      "source": [
        "colors = ['black','deep blue','purple','pink','black']\n",
        "print(colors)\n",
        "colors.reverse()\n",
        "print(colors)"
      ],
      "execution_count": 3,
      "outputs": [
        {
          "output_type": "stream",
          "text": [
            "['black', 'deep blue', 'purple', 'pink', 'black']\n",
            "['black', 'pink', 'purple', 'deep blue', 'black']\n"
          ],
          "name": "stdout"
        }
      ]
    },
    {
      "cell_type": "code",
      "metadata": {
        "colab": {
          "base_uri": "https://localhost:8080/"
        },
        "id": "-fsSp488zTUB",
        "outputId": "76cde39c-a958-42fb-c696-63c65e87d046"
      },
      "source": [
        "colors = ['black','deep blue','purple','pink','black']\n",
        "print(colors)\n",
        "neww = enumerate(colors)\n",
        "print(list(neww))\n",
        "neww = enumerate(colors,56)\n",
        "print(list(neww))"
      ],
      "execution_count": 10,
      "outputs": [
        {
          "output_type": "stream",
          "text": [
            "['black', 'deep blue', 'purple', 'pink', 'black']\n",
            "[(0, 'black'), (1, 'deep blue'), (2, 'purple'), (3, 'pink'), (4, 'black')]\n",
            "[(56, 'black'), (57, 'deep blue'), (58, 'purple'), (59, 'pink'), (60, 'black')]\n"
          ],
          "name": "stdout"
        }
      ]
    }
  ]
}