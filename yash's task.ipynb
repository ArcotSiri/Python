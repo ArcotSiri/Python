{
  "nbformat": 4,
  "nbformat_minor": 0,
  "metadata": {
    "colab": {
      "name": "Untitled10.ipynb",
      "provenance": [],
      "authorship_tag": "ABX9TyNVXZ7nyBGkk+3JMwR6Fa+r",
      "include_colab_link": true
    },
    "kernelspec": {
      "name": "python3",
      "display_name": "Python 3"
    },
    "language_info": {
      "name": "python"
    }
  },
  "cells": [
    {
      "cell_type": "markdown",
      "metadata": {
        "id": "view-in-github",
        "colab_type": "text"
      },
      "source": [
        "<a href=\"https://colab.research.google.com/github/ArcotSiri/Python/blob/main/yash's%20task.ipynb\" target=\"_parent\"><img src=\"https://colab.research.google.com/assets/colab-badge.svg\" alt=\"Open In Colab\"/></a>"
      ]
    },
    {
      "cell_type": "code",
      "metadata": {
        "colab": {
          "base_uri": "https://localhost:8080/"
        },
        "id": "DLlSkXJFOd-t",
        "outputId": "7d4c358a-687d-4501-d46f-09c2018e77cc"
      },
      "source": [
        "a=2\n",
        "b=0.6\n",
        "c='Welcome '\n",
        "print('enter an integer')\n",
        "aa=int(input())\n",
        "print('enter a float number')\n",
        "bb=float(input())\n",
        "print('enter a string')\n",
        "cc=input()\n",
        "print(\"Addition of integers: {}\\nAddition of float numbers: {}\\nConcatenation of strings: {}\".format(a+aa, b+bb, c+cc))"
      ],
      "execution_count": 2,
      "outputs": [
        {
          "output_type": "stream",
          "text": [
            "enter an integer\n",
            "2\n",
            "enter a float number\n",
            "1.66\n",
            "enter a string\n",
            "Siri\n",
            "Addition of integers: 4\n",
            "Addition of float numbers: 2.26\n",
            "Concatenation of strings: Welcome Siri\n"
          ],
          "name": "stdout"
        }
      ]
    }
  ]
}